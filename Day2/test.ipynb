{
 "cells": [
  {
   "cell_type": "code",
   "execution_count": 11,
   "metadata": {},
   "outputs": [],
   "source": [
    "a = [[1, 2, 1],[3,4,5],[6,7,8]]\n",
    "\n",
    "def diagonalDifference(a):\n",
    "    top = [x for x in a[0]]\n",
    "    middle = [x for x in a[1]]\n",
    "    bottom = [x for x in a[2]]\n",
    "    # get the top right side of the right diagnol \n",
    "    dig_right_t_r = top[2]\n",
    "    diag_right_c_m = middle[1] # middle right diag\n",
    "    dig_right_b_l = bottom[0] # bottom right diag\n",
    "    diag_left_t_l = top[0]\n",
    "    diag_left_m_c = middle[1]\n",
    "    diag_left_b_r = bottom[2]\n",
    "    sum_right_diag = dig_right_t_r + diag_right_c_m + dig_right_b_l\n",
    "    sum_left_diag = diag_left_m_c + diag_left_b_r + diag_left_t_l\n",
    "    absolute_diff = sum_right_diag - sum_left_diag\n",
    "    if absolute_diff < 0:\n",
    "        return absolute_diff * -1\n",
    "    else: \n",
    "        return absolute_diff\n",
    "    # return absolute_diff\n",
    "    # return absolute_diff * -1 if absolute_diff < 0 else absolute_diff\n",
    "    #!/bin/python3"
   ]
  },
  {
   "cell_type": "code",
   "execution_count": 12,
   "metadata": {},
   "outputs": [
    {
     "data": {
      "text/plain": [
       "2"
      ]
     },
     "execution_count": 12,
     "metadata": {},
     "output_type": "execute_result"
    }
   ],
   "source": [
    "diagonalDifference(a)"
   ]
  },
  {
   "cell_type": "code",
   "execution_count": null,
   "metadata": {},
   "outputs": [],
   "source": []
  }
 ],
 "metadata": {
  "kernelspec": {
   "display_name": "Python 3",
   "language": "python",
   "name": "python3"
  },
  "language_info": {
   "codemirror_mode": {
    "name": "ipython",
    "version": 3
   },
   "file_extension": ".py",
   "mimetype": "text/x-python",
   "name": "python",
   "nbconvert_exporter": "python",
   "pygments_lexer": "ipython3",
   "version": "3.9.2"
  },
  "orig_nbformat": 4
 },
 "nbformat": 4,
 "nbformat_minor": 2
}
